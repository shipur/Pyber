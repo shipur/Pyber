{
 "cells": [
  {
   "cell_type": "code",
   "execution_count": 616,
   "metadata": {
    "collapsed": true
   },
   "outputs": [],
   "source": [
    "# Import Dependencies\n",
    "import matplotlib.pyplot as plt\n",
    "import numpy as np\n",
    "import pandas as pd"
   ]
  },
  {
   "cell_type": "code",
   "execution_count": 617,
   "metadata": {
    "collapsed": true
   },
   "outputs": [],
   "source": [
    "data_file1 = \"raw_data/city_data.csv\"\n",
    "data_file2 = \"raw_data/ride_data.csv\""
   ]
  },
  {
   "cell_type": "code",
   "execution_count": 618,
   "metadata": {},
   "outputs": [
    {
     "data": {
      "text/html": [
       "<div>\n",
       "<style>\n",
       "    .dataframe thead tr:only-child th {\n",
       "        text-align: right;\n",
       "    }\n",
       "\n",
       "    .dataframe thead th {\n",
       "        text-align: left;\n",
       "    }\n",
       "\n",
       "    .dataframe tbody tr th {\n",
       "        vertical-align: top;\n",
       "    }\n",
       "</style>\n",
       "<table border=\"1\" class=\"dataframe\">\n",
       "  <thead>\n",
       "    <tr style=\"text-align: right;\">\n",
       "      <th></th>\n",
       "      <th>city</th>\n",
       "      <th>driver_count</th>\n",
       "      <th>type</th>\n",
       "    </tr>\n",
       "  </thead>\n",
       "  <tbody>\n",
       "    <tr>\n",
       "      <th>0</th>\n",
       "      <td>Kelseyland</td>\n",
       "      <td>63</td>\n",
       "      <td>Urban</td>\n",
       "    </tr>\n",
       "    <tr>\n",
       "      <th>1</th>\n",
       "      <td>Nguyenbury</td>\n",
       "      <td>8</td>\n",
       "      <td>Urban</td>\n",
       "    </tr>\n",
       "    <tr>\n",
       "      <th>2</th>\n",
       "      <td>East Douglas</td>\n",
       "      <td>12</td>\n",
       "      <td>Urban</td>\n",
       "    </tr>\n",
       "    <tr>\n",
       "      <th>3</th>\n",
       "      <td>West Dawnfurt</td>\n",
       "      <td>34</td>\n",
       "      <td>Urban</td>\n",
       "    </tr>\n",
       "    <tr>\n",
       "      <th>4</th>\n",
       "      <td>Rodriguezburgh</td>\n",
       "      <td>52</td>\n",
       "      <td>Urban</td>\n",
       "    </tr>\n",
       "  </tbody>\n",
       "</table>\n",
       "</div>"
      ],
      "text/plain": [
       "             city  driver_count   type\n",
       "0      Kelseyland            63  Urban\n",
       "1      Nguyenbury             8  Urban\n",
       "2    East Douglas            12  Urban\n",
       "3   West Dawnfurt            34  Urban\n",
       "4  Rodriguezburgh            52  Urban"
      ]
     },
     "execution_count": 618,
     "metadata": {},
     "output_type": "execute_result"
    }
   ],
   "source": [
    "file_df1 = pd.read_csv(data_file1)\n",
    "file_df2 = pd.read_csv(data_file2)\n",
    "file_df1.head()"
   ]
  },
  {
   "cell_type": "code",
   "execution_count": 619,
   "metadata": {},
   "outputs": [
    {
     "data": {
      "text/html": [
       "<div>\n",
       "<style>\n",
       "    .dataframe thead tr:only-child th {\n",
       "        text-align: right;\n",
       "    }\n",
       "\n",
       "    .dataframe thead th {\n",
       "        text-align: left;\n",
       "    }\n",
       "\n",
       "    .dataframe tbody tr th {\n",
       "        vertical-align: top;\n",
       "    }\n",
       "</style>\n",
       "<table border=\"1\" class=\"dataframe\">\n",
       "  <thead>\n",
       "    <tr style=\"text-align: right;\">\n",
       "      <th></th>\n",
       "      <th>city</th>\n",
       "      <th>date</th>\n",
       "      <th>fare</th>\n",
       "      <th>ride_id</th>\n",
       "      <th>driver_count</th>\n",
       "      <th>type</th>\n",
       "    </tr>\n",
       "  </thead>\n",
       "  <tbody>\n",
       "    <tr>\n",
       "      <th>0</th>\n",
       "      <td>Sarabury</td>\n",
       "      <td>2016-01-16 13:49:27</td>\n",
       "      <td>38.35</td>\n",
       "      <td>5403689035038</td>\n",
       "      <td>46</td>\n",
       "      <td>Urban</td>\n",
       "    </tr>\n",
       "    <tr>\n",
       "      <th>1</th>\n",
       "      <td>Sarabury</td>\n",
       "      <td>2016-07-23 07:42:44</td>\n",
       "      <td>21.76</td>\n",
       "      <td>7546681945283</td>\n",
       "      <td>46</td>\n",
       "      <td>Urban</td>\n",
       "    </tr>\n",
       "    <tr>\n",
       "      <th>2</th>\n",
       "      <td>Sarabury</td>\n",
       "      <td>2016-04-02 04:32:25</td>\n",
       "      <td>38.03</td>\n",
       "      <td>4932495851866</td>\n",
       "      <td>46</td>\n",
       "      <td>Urban</td>\n",
       "    </tr>\n",
       "    <tr>\n",
       "      <th>3</th>\n",
       "      <td>Sarabury</td>\n",
       "      <td>2016-06-23 05:03:41</td>\n",
       "      <td>26.82</td>\n",
       "      <td>6711035373406</td>\n",
       "      <td>46</td>\n",
       "      <td>Urban</td>\n",
       "    </tr>\n",
       "    <tr>\n",
       "      <th>4</th>\n",
       "      <td>Sarabury</td>\n",
       "      <td>2016-09-30 12:48:34</td>\n",
       "      <td>30.30</td>\n",
       "      <td>6388737278232</td>\n",
       "      <td>46</td>\n",
       "      <td>Urban</td>\n",
       "    </tr>\n",
       "  </tbody>\n",
       "</table>\n",
       "</div>"
      ],
      "text/plain": [
       "       city                 date   fare        ride_id  driver_count   type\n",
       "0  Sarabury  2016-01-16 13:49:27  38.35  5403689035038            46  Urban\n",
       "1  Sarabury  2016-07-23 07:42:44  21.76  7546681945283            46  Urban\n",
       "2  Sarabury  2016-04-02 04:32:25  38.03  4932495851866            46  Urban\n",
       "3  Sarabury  2016-06-23 05:03:41  26.82  6711035373406            46  Urban\n",
       "4  Sarabury  2016-09-30 12:48:34  30.30  6388737278232            46  Urban"
      ]
     },
     "execution_count": 619,
     "metadata": {},
     "output_type": "execute_result"
    }
   ],
   "source": [
    "# Merge our two data frames together\n",
    "combined_rides_df = pd.merge(file_df2, file_df1, on=\"city\")\n",
    "combined_rides_df.head()\n",
    "#print(len(combined_rides_df))"
   ]
  },
  {
   "cell_type": "code",
   "execution_count": 620,
   "metadata": {},
   "outputs": [],
   "source": [
    "# Using GroupBy in order to separate the data into fields according to \"city\" values\n",
    "grouped_city_rides = combined_rides_df.groupby(['city'])\n",
    "#print(grouped_city_rides.head())\n",
    "\n",
    "# !!#Find the Average fare per city:\n",
    "# !!avg_fare_per_city = grouped_city_rides[\"ride_id\"].mean()\n",
    "\n",
    "# !!#Find Total Number of Rides per City:\n",
    "# !!num_rides_per_city = grouped_city_rides[\"ride_id\"].count()\n",
    "# !!#print(\"Rides in the cities:\\n\" + str(num_rides_per_city))\n",
    "\n",
    "# !!#Find Total Number of Drivers per City:\n",
    "# !!num_drivers_per_city = grouped_city_rides[\"driver_count\"].value_counts()\n",
    "# !!#print(num_drivers_per_city)\n",
    "\n",
    "urban_cities_df = combined_rides_df[combined_rides_df[\"type\"] == \"Urban\"]\n",
    "\n",
    "urban_ride_count = urban_cities_df.groupby([\"city\"]).count()[\"ride_id\"]\n",
    "urban_avg_fare = urban_cities_df.groupby([\"city\"]).mean()[\"fare\"]\n",
    "urban_driver_count = urban_cities_df.groupby([\"city\"]).mean()[\"driver_count\"]\n",
    "\n",
    "suburban_cities_df = combined_rides_df[combined_rides_df[\"type\"] == \"Suburban\"]\n",
    "\n",
    "suburban_ride_count = suburban_cities_df.groupby([\"city\"]).count()[\"ride_id\"]\n",
    "suburban_avg_fare = suburban_cities_df.groupby([\"city\"]).mean()[\"fare\"]\n",
    "suburban_driver_count = suburban_cities_df.groupby([\"city\"]).mean()[\"driver_count\"]\n",
    "\n",
    "rural_cities_df = combined_rides_df[combined_rides_df[\"type\"] == \"Urban\"]\n",
    "\n",
    "rural_ride_count = rural_cities_df.groupby([\"city\"]).count()[\"ride_id\"]\n",
    "rural_avg_fare = rural_cities_df.groupby([\"city\"]).mean()[\"fare\"]\n",
    "rural_driver_count = rural_cities_df.groupby([\"city\"]).mean()[\"driver_count\"]\n",
    "\n",
    "#---------------------------------------------------------\n",
    "# GROUP BY CITY TYPES \n",
    "#-------------------------------\n",
    "\n",
    "#Group the merged data by city type: \n",
    "grouped_city_type = combined_rides_df.groupby(['type'])\n",
    "#print(grouped_city_type.tail(20))\n",
    "#print(grouped_city_type[\"driver_count\"].value_counts())\n",
    "\n",
    "# *rural = []\n",
    "# *urban = []\n",
    "# *suburban = []\n",
    "\n",
    "#* for val, cnt in grouped_city_type[\"driver_count\"].value_counts().iteritems():\n",
    "#*     if val[0] == \"Rural\":\n",
    "#*         rural.append(cnt)\n",
    "#*     elif val[0] == \"Urban\":\n",
    "#*         urban.append(cnt )\n",
    "#*     elif val[0] == \"Suburban\":\n",
    "#*         suburban.append(cnt)\n",
    "    \n",
    "#* print(\"Rural: \" + str(rural))\n",
    "#* print(\"Urban: \" + str(urban))\n",
    "#* print(\"Suburban: \" + str(suburban))   \n",
    "\n",
    "#==============================================================================\n",
    "# for val, cnt in grouped_city_type[\"driver_count\"].value_counts().iteritems():\n",
    "#     if val[0] == \"Rural\":\n",
    "#         rural.append(val[1] * 3)\n",
    "#     elif val[0] == \"Urban\":\n",
    "#         urban.append(val[1] * 3)\n",
    "#     elif val[0] == \"Suburban\":\n",
    "#         suburban.append(val[1] * 3)\n",
    "    \n",
    "# print(\"Rural: \" + str(rural))\n",
    "# print(\"Urban: \" + str(urban))\n",
    "# print(\"Suburban: \" + str(suburban))     \n",
    "    #driver_count_list.append(val[1])\n",
    "#---------------------------------------------------------\n",
    "\n",
    "# THE FOLLOWING STATEMENTS ARE NOT NEEDED AFTER THE ABOVE CHANGES*****\n",
    "# The following statement is to check how many times a city name is repeated in the dataframe:\n",
    "#print(grouped_city_rides[\"city\"].value_counts())\n",
    "\n",
    "driver_count_list = []\n",
    "for val, cnt in grouped_city_rides[\"driver_count\"].value_counts().iteritems():\n",
    "    driver_count_list.append(val[1])\n",
    "\n",
    "#print(driver_count_list)\n",
    "\n",
    "city_type_color = []\n",
    "for val, cnt in grouped_city_rides[\"type\"].value_counts().iteritems():\n",
    "    city_type_color.append(val[1])\n",
    "#print(city_type_color)\n"
   ]
  },
  {
   "cell_type": "code",
   "execution_count": 621,
   "metadata": {},
   "outputs": [],
   "source": [
    "\n",
    "#colors = [\"lightblue\", \"gold\", \"coral\"]\n"
   ]
  },
  {
   "cell_type": "code",
   "execution_count": 622,
   "metadata": {},
   "outputs": [],
   "source": [
    "# plt.xlim(0, 50)\n",
    "# plt.ylim(0, 50)"
   ]
  },
  {
   "cell_type": "code",
   "execution_count": 623,
   "metadata": {},
   "outputs": [],
   "source": [
    "#print(avg_fare_per_city)"
   ]
  },
  {
   "cell_type": "code",
   "execution_count": 672,
   "metadata": {},
   "outputs": [
    {
     "name": "stdout",
     "output_type": "stream",
     "text": [
      "[48, 25, 19, 17, 7, 4, 4, 1]\n"
     ]
    },
    {
     "data": {
      "text/plain": [
       "<matplotlib.collections.PathCollection at 0x1158b6898>"
      ]
     },
     "execution_count": 672,
     "metadata": {},
     "output_type": "execute_result"
    }
   ],
   "source": [
    "print(rural)\n",
    "plt.scatter(x = rural_ride_count,\n",
    "            y = rural_avg_fare,\n",
    "            s = rural_driver_count * 10,\n",
    "            c = \"gold\",\n",
    "            marker=\"o\", edgecolors=\"black\",\n",
    "            label = \"Rural\",\n",
    "            alpha = 0.75)\n",
    "\n",
    "# plt.xlabel(\"Total Number of Rides (Per City)\")\n",
    "# plt.ylabel(\"Average Fare ($) Per City\")\n",
    "# plt.title(\"Pyber Ride Sharing Data\")\n",
    "# plt.legend(loc='best')\n",
    "# plt.show()"
   ]
  },
  {
   "cell_type": "code",
   "execution_count": 673,
   "metadata": {},
   "outputs": [
    {
     "data": {
      "text/plain": [
       "<matplotlib.collections.PathCollection at 0x1158b6cf8>"
      ]
     },
     "execution_count": 673,
     "metadata": {},
     "output_type": "execute_result"
    }
   ],
   "source": [
    "plt.scatter(x = suburban_ride_count,\n",
    "            y = suburban_avg_fare,\n",
    "            s = suburban_driver_count * 10,\n",
    "            c = 'lightblue',\n",
    "            marker=\"o\", edgecolors=\"black\",\n",
    "            label = \"Suburban\",\n",
    "            alpha = 0.75)\n",
    "\n",
    "# plt.xlabel(\"Total Number of Rides (Per City)\")\n",
    "# plt.ylabel(\"Average Fare ($) Per City\")\n",
    "# plt.title(\"Pyber Ride Sharing Data\")\n",
    "# plt.legend(loc='best')\n",
    "# plt.show()"
   ]
  },
  {
   "cell_type": "code",
   "execution_count": 674,
   "metadata": {},
   "outputs": [
    {
     "data": {
      "text/plain": [
       "<matplotlib.collections.PathCollection at 0x1158c40b8>"
      ]
     },
     "execution_count": 674,
     "metadata": {},
     "output_type": "execute_result"
    }
   ],
   "source": [
    "plt.scatter(x = urban_ride_count,\n",
    "            y = urban_avg_fare,\n",
    "            s = urban_driver_count * 10,\n",
    "            c = 'coral',\n",
    "            marker=\"o\", edgecolors=\"black\",\n",
    "            label = \"Urban\",\n",
    "            alpha = 0.75)\n",
    "\n"
   ]
  },
  {
   "cell_type": "code",
   "execution_count": 675,
   "metadata": {},
   "outputs": [
    {
     "data": {
      "image/png": "[encoded data removed]",
      "text/plain": [
       "<matplotlib.figure.Figure at 0x115807160>"
      ]
     },
     "metadata": {},
     "output_type": "display_data"
    }
   ],
   "source": [
    "plt.xlabel(\"Total Number of Rides (Per City)\")\n",
    "plt.ylabel(\"Average Fare ($) Per City\")\n",
    "plt.title(\"Pyber Ride Sharing Data\")\n",
    "plt.legend(loc='best')\n",
    "plt.show()"
   ]
  },
  {
   "cell_type": "code",
   "execution_count": 645,
   "metadata": {},
   "outputs": [
    {
     "name": "stdout",
     "output_type": "stream",
     "text": [
      "<pandas.core.groupby.DataFrameGroupBy object at 0x1148399e8>\n"
     ]
    }
   ],
   "source": [
    "# % of Total Fares by City Type\n",
    "#-------------------------------\n",
    "\n",
    "#Group the merged data by city type: ******* groupby needed?\n",
    "grouped_city_type = combined_rides_df.groupby(['type'])\n",
    "print(grouped_city_type)\n"
   ]
  },
  {
   "cell_type": "code",
   "execution_count": 646,
   "metadata": {},
   "outputs": [
    {
     "name": "stdout",
     "output_type": "stream",
     "text": [
      "type\n",
      "Rural        4255.09\n",
      "Suburban    20335.69\n",
      "Urban       40078.34\n",
      "Name: fare, dtype: float64\n",
      "type\n",
      "Rural        6.579786\n",
      "Suburban    31.445750\n",
      "Urban       61.974463\n",
      "Name: fare, dtype: float64\n"
     ]
    }
   ],
   "source": [
    "#total_fare of each type of city:\n",
    "total_fare = grouped_city_type['fare'].sum()\n",
    "\n",
    "sum_fare = total_fare[\"Rural\"] + total_fare[\"Suburban\"] + total_fare[\"Urban\"]\n",
    "print(total_fare)\n",
    "pcent_fare = total_fare/sum_fare *100\n",
    "\n",
    "print(pcent_fare)"
   ]
  },
  {
   "cell_type": "code",
   "execution_count": 647,
   "metadata": {},
   "outputs": [
    {
     "data": {
      "image/png": "[encoded data removed]",
      "text/plain": [
       "<matplotlib.figure.Figure at 0x11490a7b8>"
      ]
     },
     "metadata": {},
     "output_type": "display_data"
    }
   ],
   "source": [
    "explode = (0.1,0.1,0)\n",
    "\n",
    "# Tell matplotlib to create a bar chart based upon the above data\n",
    "plt.pie(pcent_fare, explode=explode, labels=pcent_fare.keys() , colors=colors,\n",
    "        autopct=\"%1.1f%%\", shadow=True, startangle=140)\n",
    "\n",
    "# Create axes which are equal so we have a perfect circle\n",
    "#plt.axis(\"equal\")\n",
    "plt.show()"
   ]
  },
  {
   "cell_type": "code",
   "execution_count": 648,
   "metadata": {},
   "outputs": [
    {
     "data": {
      "text/plain": [
       "type\n",
       "Rural        125\n",
       "Suburban     657\n",
       "Urban       1625\n",
       "Name: ride_id, dtype: int64"
      ]
     },
     "execution_count": 648,
     "metadata": {},
     "output_type": "execute_result"
    }
   ],
   "source": [
    "# % of Total Rides by City Type\n",
    "#-------------------------------\n",
    "\n",
    "#total rides of each type of city:\n",
    "total_rides = grouped_city_type['ride_id'].count()\n",
    "total_rides"
   ]
  },
  {
   "cell_type": "code",
   "execution_count": 649,
   "metadata": {},
   "outputs": [
    {
     "name": "stdout",
     "output_type": "stream",
     "text": [
      "2407\n",
      "type\n",
      "Rural        5.193187\n",
      "Suburban    27.295388\n",
      "Urban       67.511425\n",
      "Name: ride_id, dtype: float64\n"
     ]
    }
   ],
   "source": [
    "#Calculate percent of rides per city type\n",
    "sum_rides = total_rides[\"Rural\"] + total_rides[\"Suburban\"] + total_rides[\"Urban\"]\n",
    "print(sum_rides)\n",
    "pcent_rides = total_rides/sum_rides *100\n",
    "\n",
    "print(pcent_rides)"
   ]
  },
  {
   "cell_type": "code",
   "execution_count": 650,
   "metadata": {},
   "outputs": [
    {
     "data": {
      "image/png": "[encoded data removed]",
      "text/plain": [
       "<matplotlib.figure.Figure at 0x1148f4710>"
      ]
     },
     "metadata": {},
     "output_type": "display_data"
    }
   ],
   "source": [
    "# Now plot the chart based on percent rides:\n",
    "\n",
    "explode = (0.1,0.1,0)\n",
    "\n",
    "# Tell matplotlib to create a bar chart based upon the above data\n",
    "plt.pie(pcent_rides, explode=explode, labels=pcent_rides.keys() , colors=colors,\n",
    "        autopct=\"%1.1f%%\", shadow=True, startangle=140)\n",
    "\n",
    "plt.show()"
   ]
  },
  {
   "cell_type": "code",
   "execution_count": 651,
   "metadata": {},
   "outputs": [
    {
     "name": "stdout",
     "output_type": "stream",
     "text": [
      "type\n",
      "Rural         727\n",
      "Suburban     9730\n",
      "Urban       64501\n",
      "Name: driver_count, dtype: int64\n"
     ]
    }
   ],
   "source": [
    "# % of Total Drivers by City Type\n",
    "\n",
    "#Find Total Number of Drivers per City:\n",
    "total_drivers = grouped_city_type[\"driver_count\"].sum()\n",
    "print(total_drivers)\n"
   ]
  },
  {
   "cell_type": "code",
   "execution_count": 652,
   "metadata": {},
   "outputs": [
    {
     "name": "stdout",
     "output_type": "stream",
     "text": [
      "74958\n",
      "type\n",
      "Rural        0.969876\n",
      "Suburban    12.980602\n",
      "Urban       86.049521\n",
      "Name: driver_count, dtype: float64\n"
     ]
    }
   ],
   "source": [
    "#Calculate percent of drivers per city type\n",
    "sum_drivers = total_drivers[\"Rural\"] + total_drivers[\"Suburban\"] + total_drivers[\"Urban\"]\n",
    "print(sum_drivers)\n",
    "pcent_drivers = total_drivers/sum_drivers *100\n",
    "\n",
    "print(pcent_drivers)"
   ]
  },
  {
   "cell_type": "code",
   "execution_count": 653,
   "metadata": {},
   "outputs": [
    {
     "data": {
      "image/png": "[encoded data removed]",
      "text/plain": [
       "<matplotlib.figure.Figure at 0x1149efcf8>"
      ]
     },
     "metadata": {},
     "output_type": "display_data"
    }
   ],
   "source": [
    "# Now plot the chart based on percent drivers:\n",
    "\n",
    "explode = (0.1,0.1,0)\n",
    "\n",
    "# Tell matplotlib to create a bar chart based upon the above data\n",
    "plt.pie(pcent_drivers, explode=explode, labels=pcent_drivers.keys() , colors=colors,\n",
    "        autopct=\"%1.1f%%\", shadow=True, startangle=140)\n",
    "\n",
    "plt.show()"
   ]
  },
  {
   "cell_type": "code",
   "execution_count": null,
   "metadata": {
    "collapsed": true
   },
   "outputs": [],
   "source": []
  },
  {
   "cell_type": "code",
   "execution_count": null,
   "metadata": {
    "collapsed": true
   },
   "outputs": [],
   "source": []
  }
 ],
 "metadata": {
  "kernelspec": {
   "display_name": "Python 3",
   "language": "python",
   "name": "python3"
  },
  "language_info": {
   "codemirror_mode": {
    "name": "ipython",
    "version": 3
   },
   "file_extension": ".py",
   "mimetype": "text/x-python",
   "name": "python",
   "nbconvert_exporter": "python",
   "pygments_lexer": "ipython3",
   "version": "3.6.3"
  }
 },
 "nbformat": 4,
 "nbformat_minor": 2
}
